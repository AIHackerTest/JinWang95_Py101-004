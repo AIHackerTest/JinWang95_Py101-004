{
 "cells": [
  {
   "cell_type": "code",
   "execution_count": null,
   "metadata": {},
   "outputs": [
    {
     "name": "stdout",
     "output_type": "stream",
     "text": [
      "请输入20以内的整数：\n"
     ]
    }
   ],
   "source": [
    "import random\n",
    "\n",
    "def num_get():\n",
    "    print(\"请输入20以内的整数：\")\n",
    "    global num\n",
    "    num = input(\"> \")\n",
    "\n",
    "def num_check(num):\n",
    "    \"\"\"校验是否为20以内的整数\"\"\"\n",
    "    if not num.isdigit():\n",
    "        return False\n",
    "    elif not 0 <= int(num) <= 20:\n",
    "        return False\n",
    "    elif 0 <= int(num) <= 20:\n",
    "        return True\n",
    "    else:\n",
    "        print(\"num_check error\")\n",
    "        return False\n",
    "\n",
    "tarnum = random.randint(1,20)\n",
    "\n",
    "for i in range(0,10):\n",
    "    num_get()\n",
    "    while not num_check(num):\n",
    "        num_get()\n",
    "    \"\"\"\n",
    "    教练演示用的是以下代码\n",
    "    try:\n",
    "        num = int(input(\">请输入20以下的整数： \"))\n",
    "    except ValueError:\n",
    "        print(\"请你输入20以下的整数\")\n",
    "        continue # 报错后不执行try语句块，直接执行exceop语句块\n",
    "    \n",
    "    \"\"\"\n",
    "    if int(num) < tarnum:\n",
    "        print(\"猜得太小啦,你还有 %d 次机会\" % (9-i))\n",
    "    elif int(num) > tarnum:\n",
    "        print(\"猜得太大啦,你还有 %d 次机会\" % (9-i))\n",
    "    elif int(num) == tarnum:\n",
    "        print(\"恭喜你猜对啦！正确答案就是 %d !\" % tarnum)\n",
    "        # print(\"答案就是{}\".format(tarnum)) # 教练演示用的这种方法\n",
    "        exit(0)\n",
    "    else:\n",
    "        print(\"Error comparison\")\n",
    "        exit(0)\n",
    "print(\"正确答案是 %d\" % tarnum)"
   ]
  },
  {
   "cell_type": "code",
   "execution_count": null,
   "metadata": {
    "collapsed": true
   },
   "outputs": [],
   "source": []
  }
 ],
 "metadata": {
  "kernelspec": {
   "display_name": "Python 3",
   "language": "python",
   "name": "python3"
  },
  "language_info": {
   "codemirror_mode": {
    "name": "ipython",
    "version": 3
   },
   "file_extension": ".py",
   "mimetype": "text/x-python",
   "name": "python",
   "nbconvert_exporter": "python",
   "pygments_lexer": "ipython3",
   "version": "3.6.1"
  }
 },
 "nbformat": 4,
 "nbformat_minor": 2
}
